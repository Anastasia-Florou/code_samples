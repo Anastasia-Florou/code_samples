{
 "cells": [
  {
   "cell_type": "markdown",
   "source": [
    "# THESIS_code-sample"
   ],
   "metadata": {}
  },
  {
   "cell_type": "markdown",
   "source": [
    "This code is part of the TU Delft master's thesis entitled \"Solar-Climatic Configuration: a model for feed-forward optimization of building envelopes as to solar energy potential\", which was presented in June 2021.\r\n",
    "\r\n",
    "The goal of this code is the generation of an optimal envelope according to a visibility target (e.g. the sky). The visibility of the sky is maximized through a vectorized process after computing several factors. These factors are based on the pre-computation of the interdependencies of all the spatial elements/voxels of the envelope according to the defined visibility target.\r\n",
    "\r\n",
    "Author: Anastasia Florou\r\n",
    "Date: June 2021"
   ],
   "metadata": {}
  },
  {
   "cell_type": "markdown",
   "source": [
    "## 0. Setup"
   ],
   "metadata": {}
  },
  {
   "cell_type": "markdown",
   "source": [
    "### 0.1 Import libraries"
   ],
   "metadata": {}
  },
  {
   "cell_type": "code",
   "execution_count": 28,
   "source": [
    "import os\r\n",
    "import topogenesis as tg\r\n",
    "import pyvista as pv\r\n",
    "import trimesh as tm\r\n",
    "import numpy as np\r\n",
    "import pandas as pd\r\n",
    "import resources as ths\r\n",
    "import pickle as pk\r\n",
    "from sklearn.preprocessing import minmax_scale as sk_minmax"
   ],
   "outputs": [],
   "metadata": {}
  },
  {
   "cell_type": "markdown",
   "source": [
    "### 0.2 Load meshes"
   ],
   "metadata": {}
  },
  {
   "cell_type": "code",
   "execution_count": 29,
   "source": [
    "context_path = os.path.relpath(\"data/context_mesh.obj\")\r\n",
    "context_mesh = tm.load(context_path)\r\n",
    "\r\n",
    "envelope_path = os.path.relpath(\"data/envelope_mesh.obj\")\r\n",
    "envelope_mesh = tm.load(envelope_path)"
   ],
   "outputs": [],
   "metadata": {}
  },
  {
   "cell_type": "markdown",
   "source": [
    "### 0.3 Check watertightness"
   ],
   "metadata": {}
  },
  {
   "cell_type": "code",
   "execution_count": 30,
   "source": [
    "# check watertightness\r\n",
    "print(context_mesh.is_watertight)\r\n",
    "print(envelope_mesh.is_watertight)"
   ],
   "outputs": [
    {
     "output_type": "stream",
     "name": "stdout",
     "text": [
      "False\n",
      "True\n"
     ]
    }
   ],
   "metadata": {}
  },
  {
   "cell_type": "markdown",
   "source": [
    "### 0.4 Visualize meshes"
   ],
   "metadata": {}
  },
  {
   "cell_type": "code",
   "execution_count": 31,
   "source": [
    "p = pv.Plotter(notebook=True)\r\n",
    "p.add_mesh(ths.tri_to_pv(context_mesh), color='#aaaaaa')\r\n",
    "p.add_mesh(ths.tri_to_pv(envelope_mesh), color='#0dbadc')\r\n",
    "p.show(use_ipyvtk=True)"
   ],
   "outputs": [
    {
     "output_type": "display_data",
     "data": {
      "text/plain": [
       "ViewInteractiveWidget(height=768, layout=Layout(height='auto', width='100%'), width=1024)"
      ],
      "application/vnd.jupyter.widget-view+json": {
       "version_major": 2,
       "version_minor": 0,
       "model_id": "867aa24372854afdb57c9dc036962f56"
      }
     },
     "metadata": {}
    },
    {
     "output_type": "execute_result",
     "data": {
      "text/plain": [
       "[(155.24196096950666, 178.50525340133802, 163.7824467092146),\n",
       " (10.109514236450195, 33.372806668281555, 18.649999976158142),\n",
       " (0.0, 0.0, 1.0)]"
      ]
     },
     "metadata": {},
     "execution_count": 31
    }
   ],
   "metadata": {}
  },
  {
   "cell_type": "markdown",
   "source": [
    "## 1. Voxelize envelope"
   ],
   "metadata": {}
  },
  {
   "cell_type": "markdown",
   "source": [
    "### 1.1 Voxelization settings"
   ],
   "metadata": {}
  },
  {
   "cell_type": "code",
   "execution_count": 32,
   "source": [
    "# voxelization settings\r\n",
    "vs = 8 # voxel size\r\n",
    "unit = [vs, vs, vs]\r\n",
    "\r\n",
    "# initialize the base lattice\r\n",
    "base_lattice = tg.lattice(envelope_mesh.bounds, unit=unit, default_value=1, dtype=int)\r\n",
    "\r\n",
    "# returns True(inside the mesh) and False(outside the mesh)\r\n",
    "interior_condition = envelope_mesh.contains(base_lattice.centroids) \r\n",
    "\r\n",
    "# reshape the interior condition to the shape of the base_lattice\r\n",
    "interior_array = interior_condition.reshape(base_lattice.shape)\r\n",
    "\r\n",
    "# convert the interior array into a lattice\r\n",
    "envelope_lattice = tg.to_lattice(interior_array, base_lattice.minbound, base_lattice.unit)"
   ],
   "outputs": [],
   "metadata": {}
  },
  {
   "cell_type": "markdown",
   "source": [
    "### 1.2 Visualize voxels"
   ],
   "metadata": {}
  },
  {
   "cell_type": "code",
   "execution_count": 33,
   "source": [
    "p = pv.Plotter(notebook=True)\r\n",
    "envelope_lattice.fast_vis(p)\r\n",
    "p.add_mesh(ths.tri_to_pv(context_mesh), color='#aaaaaa')\r\n",
    "p.show(use_ipyvtk=True)"
   ],
   "outputs": [
    {
     "output_type": "display_data",
     "data": {
      "text/plain": [
       "ViewInteractiveWidget(height=768, layout=Layout(height='auto', width='100%'), width=1024)"
      ],
      "application/vnd.jupyter.widget-view+json": {
       "version_major": 2,
       "version_minor": 0,
       "model_id": "75001529dbd147aabee29e6b668bc9aa"
      }
     },
     "metadata": {}
    },
    {
     "output_type": "execute_result",
     "data": {
      "text/plain": [
       "[(156.9542188055995, 179.20956891851455, 164.84470456914931),\n",
       " (10.109514236450195, 32.364864349365234, 18.0),\n",
       " (0.0, 0.0, 1.0)]"
      ]
     },
     "metadata": {},
     "execution_count": 33
    }
   ],
   "metadata": {}
  },
  {
   "cell_type": "markdown",
   "source": [
    "### 1.3 Save to csv"
   ],
   "metadata": {}
  },
  {
   "cell_type": "code",
   "execution_count": 34,
   "source": [
    "csv_path = os.path.relpath(\"data/voxelized_envelope.csv\")\r\n",
    "envelope_lattice.to_csv(csv_path)"
   ],
   "outputs": [],
   "metadata": {}
  },
  {
   "cell_type": "markdown",
   "source": [
    "## 2. Reference vectors"
   ],
   "metadata": {}
  },
  {
   "cell_type": "markdown",
   "source": [
    "### 2.1 Construct, subdivide skydome and extract sky vectors"
   ],
   "metadata": {}
  },
  {
   "cell_type": "code",
   "execution_count": 35,
   "source": [
    "# create a sphere \r\n",
    "sphere_mesh = tm.creation.icosphere(subdivisions=2, radius= 50.0, color=None)\r\n",
    "\r\n",
    "# extract vertices (vectors) from sphere\r\n",
    "sph_vectors = np.copy(sphere_mesh.vertices)\r\n",
    "\r\n",
    "# keep only the vectors with positive Z (points of upper hemisphere)\r\n",
    "sky_vectors = sph_vectors[sph_vectors[:,2] > 0.0]\r\n",
    "\r\n",
    "# convert to array\r\n",
    "sky_vectors = np.array(sky_vectors)"
   ],
   "outputs": [],
   "metadata": {}
  },
  {
   "cell_type": "markdown",
   "source": [
    "### 2.2 Visualize sky vectors"
   ],
   "metadata": {}
  },
  {
   "cell_type": "code",
   "execution_count": 36,
   "source": [
    "p = pv.Plotter(notebook=True)\r\n",
    "envelope_lattice.fast_vis(p)\r\n",
    "p.add_mesh(ths.tri_to_pv(context_mesh), color='#aaaaaa')\r\n",
    "p.add_points(sky_vectors * 10, color='#DDD53F')\r\n",
    "p.show(use_ipyvtk=True)"
   ],
   "outputs": [
    {
     "output_type": "display_data",
     "data": {
      "text/plain": [
       "ViewInteractiveWidget(height=768, layout=Layout(height='auto', width='100%'), width=1024)"
      ],
      "application/vnd.jupyter.widget-view+json": {
       "version_major": 2,
       "version_minor": 0,
       "model_id": "d387c474c9d64c59bf8194a760c5d08a"
      }
     },
     "metadata": {}
    },
    {
     "output_type": "execute_result",
     "data": {
      "text/plain": [
       "[(1610.0759513385235, 1610.0759513385235, 1858.0759513385235),\n",
       " (0.0, 0.0, 248.0),\n",
       " (0.0, 0.0, 1.0)]"
      ]
     },
     "metadata": {},
     "execution_count": 36
    }
   ],
   "metadata": {}
  },
  {
   "cell_type": "markdown",
   "source": [
    "### 2.3 Save computed vectors"
   ],
   "metadata": {}
  },
  {
   "cell_type": "code",
   "execution_count": 37,
   "source": [
    "# save sky vectors array\r\n",
    "pk.dump(sky_vectors, open(\"data/skyvectors.pk\", \"wb\"))"
   ],
   "outputs": [],
   "metadata": {}
  },
  {
   "cell_type": "markdown",
   "source": [
    "## 3. Compute interdependencies\r\n",
    "\r\n",
    "Construct a graph of intervisibilities (G) given a set of voxels and reference vectors.\r\n",
    "\r\n",
    "$G$: Directed multigraph of visibility dependency of voxels regarding a particular visibility target represented as a tensor (a stack of matrices), whose dimensions respectively correspond to (obscuring voxels, obscured voxel, vision rays).\r\n",
    "\r\n",
    "i.e. $G_{i,j,k}$ will be 1 if a voxel $v_i$ obscures a voxel $v_j$ for receiving a ray $r_k$, and 0 otherwise"
   ],
   "metadata": {}
  },
  {
   "cell_type": "markdown",
   "source": [
    "### 3.1 Prepare computation"
   ],
   "metadata": {}
  },
  {
   "cell_type": "code",
   "execution_count": 38,
   "source": [
    "# load reference vectors\r\n",
    "ref_vectors = (pk.load(open(\"data/skyvectors.pk\", \"rb\"))) \r\n",
    "\r\n",
    "# construct reference directions array\r\n",
    "ref_dir_array = np.array(ref_vectors)\r\n",
    "\r\n",
    "# extract voxel centroids\r\n",
    "vox_cts = envelope_lattice.centroids\r\n",
    "\r\n",
    "# create mesh cuboids in the position of voxels\r\n",
    "_, cuboids = ths.cuboids_from_voxels(envelope_lattice)"
   ],
   "outputs": [],
   "metadata": {}
  },
  {
   "cell_type": "markdown",
   "source": [
    "### 3.2 Rays sources and directions"
   ],
   "metadata": {}
  },
  {
   "cell_type": "code",
   "execution_count": 39,
   "source": [
    "# shoot from all the voxels to all the reference directions\r\n",
    "ray_dir = np.tile(ref_dir_array, [len(vox_cts),1])\r\n",
    "ray_src = np.tile(vox_cts, [1, len(ref_dir_array)]).reshape(-1, 3)"
   ],
   "outputs": [],
   "metadata": {}
  },
  {
   "cell_type": "markdown",
   "source": [
    "### 3.3 Compute intersections"
   ],
   "metadata": {}
  },
  {
   "cell_type": "code",
   "execution_count": 40,
   "source": [
    "# intersection of rays from voxel centroids to visibility target with all voxel faces\r\n",
    "hitface_id, ray_id = cuboids.ray.intersects_id(ray_origins=ray_src, ray_directions=ray_dir, multiple_hits=True)"
   ],
   "outputs": [],
   "metadata": {}
  },
  {
   "cell_type": "markdown",
   "source": [
    "### 3.4 Construct interdependencies graph"
   ],
   "metadata": {}
  },
  {
   "cell_type": "code",
   "execution_count": 41,
   "source": [
    "G = ths.construct_graph(ref_vectors, hitface_id, ray_id, envelope_lattice, 12)"
   ],
   "outputs": [],
   "metadata": {}
  },
  {
   "cell_type": "markdown",
   "source": [
    "### 3.5 Save graph"
   ],
   "metadata": {}
  },
  {
   "cell_type": "code",
   "execution_count": 42,
   "source": [
    "# save intervisibilities graph\r\n",
    "pk.dump(G, open(\"data/G_graph_sky.pk\", \"wb\"))"
   ],
   "outputs": [],
   "metadata": {}
  },
  {
   "cell_type": "markdown",
   "source": [
    "## 4. Contextual shading\r\n",
    "\r\n",
    "Construct a matrix of visibility of rays (U) given a set of voxels, a context mesh and an array of reference vectors.\r\n",
    "\r\n",
    "$U$: a matrix representing the visibility of unobstructed $r_k$ for $v_i$, given a partially obstructing context, whose entries indicate if $v_i$ receives a ray $r_k$"
   ],
   "metadata": {}
  },
  {
   "cell_type": "markdown",
   "source": [
    "### 4.1 Prepare computation"
   ],
   "metadata": {}
  },
  {
   "cell_type": "code",
   "execution_count": 43,
   "source": [
    "# construct reference directions array\r\n",
    "ref_dir_array = np.array(ref_vectors)\r\n",
    "\r\n",
    "# voxel centroids\r\n",
    "vox_cts = envelope_lattice.centroids\r\n",
    "\r\n",
    "# shoot from all the voxels to all the reference directions\r\n",
    "ray_dir = np.tile(ref_dir_array, [len(vox_cts),1])\r\n",
    "ray_src = np.tile(vox_cts, [1, len(ref_dir_array)]).reshape(-1, 3)"
   ],
   "outputs": [],
   "metadata": {}
  },
  {
   "cell_type": "markdown",
   "source": [
    "### 4.2 Compute intersections & Construct graph"
   ],
   "metadata": {}
  },
  {
   "cell_type": "code",
   "execution_count": 44,
   "source": [
    "U = ths.construct_visiblerays(ray_src, ray_dir, context_mesh, envelope_lattice)"
   ],
   "outputs": [],
   "metadata": {}
  },
  {
   "cell_type": "markdown",
   "source": [
    "### 4.3 Save graph"
   ],
   "metadata": {}
  },
  {
   "cell_type": "code",
   "execution_count": 45,
   "source": [
    "# save matrix\r\n",
    "pk.dump(U, open(\"data/U_graph_sky.pk\", \"wb\"))"
   ],
   "outputs": [],
   "metadata": {}
  },
  {
   "cell_type": "markdown",
   "source": [
    "## 5. Cost index evaluation\r\n",
    "\r\n",
    "The  cost index is a numerical value that shows how \"costly\" or \"annoying\" is every voxel for a configuration."
   ],
   "metadata": {}
  },
  {
   "cell_type": "markdown",
   "source": [
    "### 5.1 Cost index calculation\r\n",
    "\r\n",
    "The formula to calculate this cost is based on the computation of two factors. First one is the Obscuring index, which expresses the visibility potential that one voxel prevents from the others:\r\n",
    "$$ Obscuring\\_index = [\\mathbf{G}_{k,i,j}^T]_{m \\times n \\times n}[\\mathbf{x}_i]_{n \\times 1} $$\r\n",
    "\r\n",
    "The second factor is the Obscured index, which expresses the visibility potential that is denied from a voxel because of the other voxels:\r\n",
    "\r\n",
    "$$ Obscured\\_index = [\\mathbf{G}_{k,j,i}^T]_{m \\times n \\times n}[\\mathbf{x}_i]_{n \\times 1} $$\r\n",
    "\r\n",
    "A voxel is considered costly for a configuration when it obstructs a great amount of rays from the rest of the voxels while not being much obscured itself. To account for the partially obscuring context, the Hadamard product with the visible rays matrix is performed and finally weights are assigned to the rays.\r\n",
    "\r\n",
    "$$\r\n",
    "     C(\\mathbf{x}) = \\mathbf{w}^T\\left([\\mathbf{G}_{k,i,j}^T]\\mathbf{x} - [\\mathbf{G}_{k,j,i}^T]\\mathbf{x}\\right)\\odot \\mathbf{U}\r\n",
    "$$\r\n"
   ],
   "metadata": {}
  },
  {
   "cell_type": "code",
   "execution_count": 49,
   "source": [
    "# tansparency vector x (the vector that contains the information of which voxels are occupied and which are not)\r\n",
    "x = np.ones(len(vox_cts)) # for a full envelope\r\n",
    "\r\n",
    "# equally weighted rays\r\n",
    "w = np.ones(ref_vectors.shape[0])\r\n",
    "\r\n",
    "# calculate cost index\r\n",
    "cost_index = ths.cost_index_calculation(G, U, x, w)\r\n",
    "\r\n",
    "# normalize values\r\n",
    "cost_index_norm = sk_minmax(1 - cost_index)\r\n",
    "\r\n",
    "# reshape and store to lattice\r\n",
    "cost_index_lat = ths.reshape_and_store_to_lattice(cost_index_norm, envelope_lattice)"
   ],
   "outputs": [],
   "metadata": {}
  },
  {
   "cell_type": "markdown",
   "source": [
    "### 5.2 Cost index visualization\r\n"
   ],
   "metadata": {}
  },
  {
   "cell_type": "code",
   "execution_count": 50,
   "source": [
    "p = pv.Plotter(notebook=True)\r\n",
    "\r\n",
    "#choose which lattice to visualize\r\n",
    "base_lattice = cost_index_lat\r\n",
    "\r\n",
    "grid = pv.UniformGrid() # Create the spatial reference\r\n",
    "grid.dimensions = base_lattice.shape # Set the grid dimensions\r\n",
    "grid.origin = base_lattice.minbound # The bottom left corner of the data set\r\n",
    "grid.spacing = base_lattice.unit # These are the cell sizes along each axis\r\n",
    "\r\n",
    "# Add the data values to the cell data\r\n",
    "grid.point_arrays[\"Score\"] = base_lattice.flatten(order=\"F\")  # Flatten the Lattice\r\n",
    "\r\n",
    "# add sun vectors\r\n",
    "p.add_mesh(ref_vectors*10, color=\"#FFA500\")\r\n",
    "\r\n",
    "# adding the meshes\r\n",
    "p.add_mesh(ths.tri_to_pv(context_mesh), opacity=0.1, style='wireframe')\r\n",
    "\r\n",
    "# adding the volume\r\n",
    "opacity = np.array([0,0.6,0.6,0.6,0.6,0.6])*1.0\r\n",
    "p.add_volume(grid, cmap=\"coolwarm\", clim=[0.0, 1.0],opacity=opacity, shade=True)\r\n",
    "\r\n",
    "# plotting\r\n",
    "p.show(use_ipyvtk=True)"
   ],
   "outputs": [
    {
     "output_type": "display_data",
     "data": {
      "text/plain": [
       "ViewInteractiveWidget(height=768, layout=Layout(height='auto', width='100%'), width=1024)"
      ],
      "application/vnd.jupyter.widget-view+json": {
       "version_major": 2,
       "version_minor": 0,
       "model_id": "a404e8ebe54444e18d5173827a7cab40"
      }
     },
     "metadata": {}
    },
    {
     "output_type": "execute_result",
     "data": {
      "text/plain": [
       "[(1608.5237322042385, 1608.5237322042385, 1858.5237322042385),\n",
       " (0.0, 0.0, 250.0),\n",
       " (0.0, 0.0, 1.0)]"
      ]
     },
     "metadata": {},
     "execution_count": 50
    }
   ],
   "metadata": {}
  },
  {
   "cell_type": "markdown",
   "source": [
    "### 5.3 Envelope selection"
   ],
   "metadata": {}
  },
  {
   "cell_type": "code",
   "execution_count": 54,
   "source": [
    "p = pv.Plotter(notebook=True)\r\n",
    "\r\n",
    "# Set the grid dimensions: shape + 1 because we want to inject our values on the CELL data\r\n",
    "grid = pv.UniformGrid()\r\n",
    "grid.dimensions = np.array(base_lattice.shape) + 1\r\n",
    "# The bottom left corner of the data set\r\n",
    "grid.origin = base_lattice.minbound - base_lattice.unit * 0.5\r\n",
    "# These are the cell sizes along each axis\r\n",
    "grid.spacing = base_lattice.unit \r\n",
    "\r\n",
    "# adding the boundingbox wireframe\r\n",
    "p.add_mesh(grid.outline(), color=\"grey\", label=\"Domain\")\r\n",
    "\r\n",
    "# adding the avilability lattice\r\n",
    "envelope_lattice.fast_vis(p)\r\n",
    "\r\n",
    "# adding axes\r\n",
    "p.add_axes()\r\n",
    "p.show_bounds(grid=\"back\", location=\"back\", color=\"#aaaaaa\")\r\n",
    "\r\n",
    "def create_mesh(value):\r\n",
    "\r\n",
    "    lattice = np.copy(base_lattice)\r\n",
    "    lattice[base_lattice < value] *= 0.0\r\n",
    "    # Add the data values to the cell data\r\n",
    "    grid.cell_arrays[\"Agents\"] = lattice.flatten(order=\"F\")  # Flatten the array!\r\n",
    "    # filtering the voxels\r\n",
    "    threshed = grid.threshold([0.001, 1.0])\r\n",
    "    # adding the voxels\r\n",
    "    p.add_mesh(threshed, name='sphere', show_edges=True, opacity=1.0, show_scalar_bar=False, clim=[0.0, 1.0])\r\n",
    "\r\n",
    "    return\r\n",
    "\r\n",
    "p.add_slider_widget(create_mesh, [0.0, 1.0], title='Time', value=0, event_type=\"always\", style=\"classic\", pointa=(0.1, 0.1), pointb=(0.9, 0.1))\r\n",
    "p.show(use_ipyvtk=True)"
   ],
   "outputs": [
    {
     "output_type": "display_data",
     "data": {
      "text/plain": [
       "ViewInteractiveWidget(height=768, layout=Layout(height='auto', width='100%'), width=1024)"
      ],
      "application/vnd.jupyter.widget-view+json": {
       "version_major": 2,
       "version_minor": 0,
       "model_id": "4521bf7233ad49538a3c1abe34fa1bcd"
      }
     },
     "metadata": {}
    },
    {
     "output_type": "execute_result",
     "data": {
      "text/plain": [
       "[(93.27406610312548, 93.27406610312548, 93.27406610312548),\n",
       " (16.0, 16.0, 16.0),\n",
       " (0.0, 0.0, 1.0)]"
      ]
     },
     "metadata": {},
     "execution_count": 54
    }
   ],
   "metadata": {}
  },
  {
   "cell_type": "markdown",
   "source": [
    "### 5.4 Apply threshold"
   ],
   "metadata": {}
  },
  {
   "cell_type": "code",
   "execution_count": 56,
   "source": [
    "threshold = 0.35\r\n",
    "new_avail_lattice = cost_index_lat > threshold\r\n",
    "\r\n",
    "p = pv.Plotter(notebook=True)\r\n",
    "new_avail_lattice.fast_vis(p)\r\n",
    "p.show(use_ipyvtk=True)"
   ],
   "outputs": [
    {
     "output_type": "display_data",
     "data": {
      "text/plain": [
       "ViewInteractiveWidget(height=768, layout=Layout(height='auto', width='100%'), width=1024)"
      ],
      "application/vnd.jupyter.widget-view+json": {
       "version_major": 2,
       "version_minor": 0,
       "model_id": "b3cfd427ee694143a340b6025e8ef0e3"
      }
     },
     "metadata": {}
    },
    {
     "output_type": "execute_result",
     "data": {
      "text/plain": [
       "[(93.27406610312548, 93.27406610312548, 93.27406610312548),\n",
       " (16.0, 16.0, 16.0),\n",
       " (0.0, 0.0, 1.0)]"
      ]
     },
     "metadata": {},
     "execution_count": 56
    }
   ],
   "metadata": {}
  },
  {
   "cell_type": "markdown",
   "source": [
    "### 5.5 Save new envelope"
   ],
   "metadata": {}
  },
  {
   "cell_type": "code",
   "execution_count": null,
   "source": [
    "csv_path_new = os.path.relpath('data/new_envelope_lattice.csv')\r\n",
    "new_avail_lattice.to_csv(csv_path_new)"
   ],
   "outputs": [],
   "metadata": {}
  }
 ],
 "metadata": {
  "orig_nbformat": 4,
  "language_info": {
   "name": "python",
   "version": "3.8.5",
   "mimetype": "text/x-python",
   "codemirror_mode": {
    "name": "ipython",
    "version": 3
   },
   "pygments_lexer": "ipython3",
   "nbconvert_exporter": "python",
   "file_extension": ".py"
  },
  "kernelspec": {
   "name": "python3",
   "display_name": "Python 3.8.5 64-bit ('thesis': conda)"
  },
  "interpreter": {
   "hash": "56e779509a8a1da8d62e8b535d82770df4da4ad82e13e80ee8dd027456d632ad"
  }
 },
 "nbformat": 4,
 "nbformat_minor": 2
}